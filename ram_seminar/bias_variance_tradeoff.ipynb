{
 "cells": [
  {
   "cell_type": "code",
   "execution_count": 1,
   "metadata": {},
   "outputs": [
    {
     "data": {
      "text/html": [
       "<style>.rendered_html { font-size: 20px; }</style>"
      ],
      "text/plain": [
       "<IPython.core.display.HTML object>"
      ]
     },
     "metadata": {},
     "output_type": "display_data"
    }
   ],
   "source": [
    "from IPython.core.display import display, HTML\n",
    "display(HTML(\"<style>.rendered_html { font-size: 20px; }</style>\"))"
   ]
  },
  {
   "cell_type": "markdown",
   "metadata": {},
   "source": [
    "Пусть $x$ и $y$ -- случайные величины с конечным вторым моментом. <br>\n",
    "Тогда их скалярное произведение это $\\langle x, y \\rangle = \\mathbb{E}\\, x \\cdot y$.\n",
    "\n",
    "$x_1, \\ldots, x_n$ - последовательноть случайных величин <br>\n",
    "$z = z(x_1, \\ldots, x_n) $ -- случайая величина зависящая от них\n",
    "\n",
    "Для $i = 1, \\ldots, n$ положим $z_i = z_i(x_1, \\ldots, x_i) = \\mathbb{E}_{x_{i + 1}, \\ldots x_n}\\left[z(x_1, \\ldots, x_n)|x_1, \\ldots, x_i\\right]$\n",
    "<br>\n",
    "Заметим, что при $i < j$ выполнено $z_i = \\mathbb{E}_{x_{i + 1}, \\ldots, x_{j}} \\left[ z_j|x_1, \\ldots, x_i \\right]$\n",
    "<br>\n",
    "Таким образом последовательность $z_1, \\ldots, z_n$ образует мартингал."
   ]
  },
  {
   "cell_type": "code",
   "execution_count": null,
   "metadata": {},
   "outputs": [],
   "source": []
  },
  {
   "cell_type": "markdown",
   "metadata": {},
   "source": [
    "Пусть $\\Delta_i = z_i - z_{i - 1}$ (при $i = 2, \\ldots, n$), $\\Delta_1 = z_1$. Тогда при $i < j$:\n",
    "$$ \\langle z_i, \\Delta_j \\rangle = \\mathbb{E}[z_i \\cdot \\Delta_j] = \\mathbb{E}_{x_1, \\ldots, x_n} [z_i \\cdot (z_j - z_{j - 1})] = $$\n",
    "$$ \\mathbb{E}_{x_1, \\ldots, x_i} \\left[ z_i(x_1, \\ldots, x_i) \\cdot \\mathbb{E}_{x_{i + 1}, \\ldots, x_n}(z_j - z_{j - 1}) \\right] = $$\n",
    "$$ \\mathbb{E}_{x_1, \\ldots, x_i} \\left[ z_i(x_1, \\ldots, x_i) \\cdot (z_i - z_i) \\right] = 0 $$\n",
    "\n",
    "Значит $\\langle \\Delta_i, \\Delta_j \\rangle = \\langle z_i - z_{i - 1}, \\Delta_j \\rangle = \\langle z_i, \\Delta_j \\rangle - \\langle z_{i - 1}, \\Delta_j \\rangle = 0 - 0 = 0$. <br>\n",
    "Таким образом все $\\Delta_i$ попарно ортогональны. Значит\n",
    "$$ \\mathbb{E} z^2 = \\langle z, z \\rangle = \\langle \\Delta_1 + \\ldots + \\Delta_n, \\Delta_1 + \\ldots + \\Delta_n \\rangle = $$\n",
    "$$ \\mathbb{E} \\Delta_1^2 + \\ldots + \\mathbb{E} \\Delta_n^2. $$"
   ]
  },
  {
   "cell_type": "code",
   "execution_count": null,
   "metadata": {},
   "outputs": [],
   "source": []
  },
  {
   "cell_type": "markdown",
   "metadata": {},
   "source": [
    "Пусть $z = y - A(X^l, r, x)$ -- ошибка нашего алгоритма, обученного на выборке $X^l$ с использованием случайных битов $r$, и примененного к тестовому примеру $(x, y)$. <br>\n",
    "Положим $x_1 = x$, $x_2 = X^l$, $x_3 = r$, $x_4 = y$, получается\n",
    "* $z_1 = z_1(x) = \\mathbb{E}_{X^l, r, y} \\left[ y - A(X^l, r, x) \\right] = \\mathbb{E}\\left[y|x \\right] - \\mathbb{E}_{X^l, r} \\left[ A(X^l, r, x) | x\\right]$\n",
    "* $z_2 = z_2(x, X^l) = \\mathbb{E}\\left[y|x \\right] - \\mathbb{E}_r \\left[ A(X^l, r, x) | x, X^l \\right]$\n",
    "* $z_3 = z_3(x, X^l, r) = \\mathbb{E}\\left[y|x \\right] - A(X^l, r, x)$\n",
    "* $z_4 = z_4(x, X^l, r, y) = y - A(X^l, r, x)$"
   ]
  },
  {
   "cell_type": "markdown",
   "metadata": {},
   "source": [
    "* $\\Delta_1(x) = z_1(x) = \n",
    "\\mathbb{E}\\left[y|x \\right] - \\mathbb{E}_{X^l, r} \\left[ A(X^l, r, x) | x\\right]$\n",
    "* $\\Delta_2(x, X^l) = z_2 - z_1 = \n",
    "\\mathbb{E}_{X^l, r} \\left[ A(X^l, r, x) | x\\right] - \\mathbb{E}_r \\left[ A(X^l, r, x) | x, X^l\\right]$\n",
    "* $\\Delta_3(x, X^l, r) = \\mathbb{E}_r \\left[ A(X^l, r, x) | x, X^l\\right] - A(X^l, r, x)$\n",
    "* $\\Delta_4 = \\mathbb{E}\\left[y|x \\right]$\n",
    "\n",
    "Таким образом:\n",
    "\n",
    "$$ MSE = \\mathbb{E}\\left[ \\left(y - A(X^l, r, x)\\right)^2 \\right] = $$\n",
    "$$\n",
    "    \\underbrace{\\mathbb{E}\\Delta_1^2}_{bias} +\n",
    "    \\underbrace{\\mathbb{E} \\Delta_2^2}_{sample~variance} + \n",
    "    \\underbrace{\\mathbb{E} \\Delta_3^2}_{randomization~variance} + \n",
    "    \\underbrace{\\mathbb{E} \\Delta_4^2}_{noise}\n",
    "$$"
   ]
  },
  {
   "cell_type": "code",
   "execution_count": null,
   "metadata": {},
   "outputs": [],
   "source": []
  },
  {
   "cell_type": "markdown",
   "metadata": {},
   "source": [
    "## Смешивание"
   ]
  },
  {
   "cell_type": "markdown",
   "metadata": {},
   "source": [
    "Пусть $a_i(x)$ предсказание $i$-того алгоритма на объекте $x$ из тестового примера $(x, y)$. \n",
    "<br>\n",
    "Более формально: $a_i(x) = A_i(X^l, r_i, x)$.\n",
    "<br>\n",
    "Положим $e_i = y - a_i(x)$, для удобства будем считать что $\\mathbb{E} e_i = 0$. <br>\n",
    "Рассмотрим среднеквадратичную ошибку ансамбля $\\bar a(x) = \\frac1n \\sum_{i = 1}^n a_n(x)$.\n",
    "$$ \\mathbb{E} {\\bar e}^2 = \n",
    "\\mathbb{E} \\left(y - \\frac1n \\sum_{i = 1}^n a_i(x) \\right)^2 = \n",
    "\\mathbb{E} \\left(\\frac1n \\sum_{i = 1}^n y - a_i(x) \\right)^2 = \n",
    "\\mathbb{E} \\left(\\frac1n \\sum_{i = 1}^n e_i \\right)^2 = \n",
    "$$\n",
    "$$ \\frac1{n^2} \\sum_{i, j = 1}^n \\mathbb{E}\\, e_i \\cdot e_j =\n",
    "\\frac1n \\left(\\frac1n \\sum_i \\mathbb{E} e_i^2 \\right) + \\frac1{n^2} \\sum_{i \\ne j} \\mathbb{E}\\, e_i \\cdot e_j = $$\n",
    "$$\n",
    "\\frac1n \\left[\\frac1n \\sum_i \\mathbb{E} e_i^2 \\right] + \\frac{n-1}{n} \\left[ \\frac1{n(n-1)}\\sum_{i \\ne j} Cov(e_i \\cdot e_j)\\right] \n",
    "$$"
   ]
  },
  {
   "cell_type": "code",
   "execution_count": null,
   "metadata": {},
   "outputs": [],
   "source": []
  },
  {
   "cell_type": "markdown",
   "metadata": {},
   "source": [
    "А теперь забдлендим алгоритмы $a_1$ и $a_2$ с весами $1 - p$ и $p$. <br>\n",
    "$$\\mathbb{E} \\bar e^2 = \\mathbb{E} ((1-p)e_1 + pe_2)^2 = $$\n",
    "$$ (1-p)^2 \\mathbb{E} e_1^2 + 2 p(1-p) Cov(e_1, e_2) + p^2 \\mathbb{E} e_2^2.$$\n",
    "Производная этой штуки по $p$ в точке $p = 0$ равна: \n",
    "$$ 2\\left(Cov(e_1, e_2) - \\mathbb{E} e_1^2\\right)$$\n",
    "Т. е. если $Cov(e_1, e_2) < \\mathbb{E} e_1^2$ то имеет смысл хотя бы чуть-чуть подблендить $a_2$ к $a_1$. <br>\n",
    "Даже если ошибка $\\mathbb{E} e_2^2$ велика."
   ]
  },
  {
   "cell_type": "code",
   "execution_count": null,
   "metadata": {},
   "outputs": [],
   "source": []
  },
  {
   "cell_type": "markdown",
   "metadata": {},
   "source": [
    "Возьмем любой лосс $l(y, \\hat y)$ выпуклый по $\\hat y$. <br>\n",
    "Возьмем ансамбль из моделей $a_1, \\ldots, a_n$, смешанных с весами из распределения $\\mathbf{p} = (p_1,\\ldots, p_n)$. <br>\n",
    "$$\\bar a(x) = \\mathbb{E}_{i \\sim \\mathbf{p}} a_i(x) = \\sum_{i = 1}^n p_i a_i(x) $$\n",
    "Лосс смеси равен \n",
    "$$\n",
    "\\underbrace{\\mathbb{E}_{x, y} l(y, \\mathbb{E}_{i \\sim \\mathbf{p}} a_i(x)) \\leqslant \n",
    "\\mathbb{E}_{x, y} \\mathbb{E}_{i \\sim \\mathbf{p}} l(y, a_i(x))}_{неравенство~Йенсена} =\n",
    "\\sum_{i = 1}^n p_i \\mathbb{E}_{x, y} l(y, a_i(x)) $$\n",
    "Мораль: если лоссы моделей примерно одинаковы, а сами они достаточно разные, то с точки зрения любого выпуклого лосса имеет смысл их смешать."
   ]
  },
  {
   "cell_type": "code",
   "execution_count": null,
   "metadata": {},
   "outputs": [],
   "source": []
  },
  {
   "cell_type": "code",
   "execution_count": null,
   "metadata": {},
   "outputs": [],
   "source": []
  },
  {
   "cell_type": "code",
   "execution_count": null,
   "metadata": {},
   "outputs": [],
   "source": []
  },
  {
   "cell_type": "code",
   "execution_count": 2,
   "metadata": {},
   "outputs": [],
   "source": [
    "from scipy.stats import ttest_ind\n",
    "import numpy as np\n",
    "from matplotlib import pyplot as plt"
   ]
  },
  {
   "cell_type": "code",
   "execution_count": 3,
   "metadata": {},
   "outputs": [],
   "source": [
    "treatment_effect = 0.1\n",
    "noise = 0.2\n",
    "coef = 24 / (np.pi ** 3)\n",
    "\n",
    "def generate_xy(sample_size=100):\n",
    "    x = np.sort(np.random.uniform(-np.pi / 2, np.pi / 2, sample_size))\n",
    "    y = np.sin(x) + noise * np.random.randn(sample_size)\n",
    "    return x, y"
   ]
  },
  {
   "cell_type": "markdown",
   "metadata": {},
   "source": [
    "\n",
    "$$y = f(x) + \\varepsilon$$\n",
    "Где $x$ и $\\varepsilon$ независимы, $\\mathbb{E}\\varepsilon = 0$.\n",
    "$$ D(y) = D(f(x)) + D(\\varepsilon) $$\n",
    "Положим $y' = y - \\hat f(x) = \\left(f(x) - \\hat f(x)\\right) + \\varepsilon$\n",
    "$$ D(y') = D(f(x) - \\hat f(x)) + D(\\varepsilon) $$\n"
   ]
  },
  {
   "cell_type": "code",
   "execution_count": 4,
   "metadata": {},
   "outputs": [
    {
     "data": {
      "image/png": "[encoded data removed]",
      "text/plain": [
       "<Figure size 720x432 with 1 Axes>"
      ]
     },
     "metadata": {
      "needs_background": "light"
     },
     "output_type": "display_data"
    }
   ],
   "source": [
    "\n",
    "plt.rc(\"figure\", figsize=(10, 6))\n",
    "plt.arrow(-np.pi / 2, 0, np.pi, 0)\n",
    "\n",
    "x, y = generate_xy(1000)\n",
    "plt.plot(x, np.sin(x), label=\"ground truth\")\n",
    "plt.plot(x, coef * x, label=\"prediction\")\n",
    "\n",
    "x, y = generate_xy(20)\n",
    "plt.vlines(x, np.zeros_like(x), np.sin(x), colors=\"blue\", alpha=0.5)\n",
    "plt.scatter(x, np.sin(x), color=\"blue\", alpha=0.5)\n",
    "\n",
    "# x, y = generate_xy(10)\n",
    "plt.vlines(x, np.sin(x), y, colors=\"red\", alpha=0.5)\n",
    "plt.scatter(x, y, color=\"red\", alpha=0.5)\n",
    "plt.legend()\n",
    "plt.show()"
   ]
  },
  {
   "cell_type": "code",
   "execution_count": 5,
   "metadata": {
    "scrolled": true
   },
   "outputs": [
    {
     "data": {
      "image/png": "[encoded data removed]",
      "text/plain": [
       "<Figure size 1440x432 with 2 Axes>"
      ]
     },
     "metadata": {
      "needs_background": "light"
     },
     "output_type": "display_data"
    }
   ],
   "source": [
    "def simulate_experiment(make_adjustment=False):\n",
    "    x1, y1 = generate_xy()\n",
    "    x2, y2 = generate_xy()\n",
    "    y2 += treatment_effect\n",
    "    if make_adjustment:\n",
    "        return ttest_ind(y1 - coef * x1, y2 - coef * x2).pvalue\n",
    "    else:\n",
    "        return ttest_ind(y1, y2).pvalue\n",
    "\n",
    "plt.rc(\"figure\", figsize=(20, 6))\n",
    "\n",
    "plt.subplot(121)\n",
    "plt.title(\"no correction\")\n",
    "plt.xlabel(\"pvalue\")\n",
    "plt.ylabel(\"frequency\")\n",
    "plt.hist([simulate_experiment() for i in range(100)], bins=np.linspace(0, 1, 21))\n",
    "\n",
    "plt.subplot(122)\n",
    "plt.title(\"with correction\")\n",
    "plt.xlabel(\"pvalue\")\n",
    "plt.ylabel(\"frequency\")\n",
    "plt.hist([simulate_experiment(True) for i in range(100)], bins=np.linspace(0, 1, 21))\n",
    "plt.show()"
   ]
  },
  {
   "cell_type": "markdown",
   "metadata": {},
   "source": [
    "## Tests"
   ]
  },
  {
   "cell_type": "code",
   "execution_count": 6,
   "metadata": {},
   "outputs": [
    {
     "data": {
      "text/plain": [
       "<matplotlib.collections.PathCollection at 0x7f994fc2aeb8>"
      ]
     },
     "execution_count": 6,
     "metadata": {},
     "output_type": "execute_result"
    },
    {
     "data": {
      "image/png": "[encoded data removed]",
      "text/plain": [
       "<Figure size 1440x432 with 1 Axes>"
      ]
     },
     "metadata": {
      "needs_background": "light"
     },
     "output_type": "display_data"
    }
   ],
   "source": [
    "\n",
    "\n",
    "# empirical check of coef optimality\n",
    "x = np.random.uniform(-np.pi / 2, np.pi / 2, 1000)\n",
    "y = np.sin(x)\n",
    "coefs = np.linspace(0, 1, 51)\n",
    "result = [((y - c * x) ** 2).mean() for c in coefs]\n",
    "plt.plot(coefs, result)\n",
    "plt.scatter(coef, ((y - coef * x) ** 2).mean())"
   ]
  }
 ],
 "metadata": {
  "kernelspec": {
   "display_name": "Python 3",
   "language": "python",
   "name": "python3"
  },
  "language_info": {
   "codemirror_mode": {
    "name": "ipython",
    "version": 3
   },
   "file_extension": ".py",
   "mimetype": "text/x-python",
   "name": "python",
   "nbconvert_exporter": "python",
   "pygments_lexer": "ipython3",
   "version": "3.7.3"
  }
 },
 "nbformat": 4,
 "nbformat_minor": 2
}
